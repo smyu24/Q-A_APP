{
 "cells": [
  {
   "cell_type": "code",
   "execution_count": 2,
   "metadata": {},
   "outputs": [],
   "source": [
    "import pandas as pd\n",
    "import sqlite3\n",
    "\n",
    "conn = sqlite3.connect(\"satsuite.sqlite\", isolation_level=None,\n",
    "                       detect_types=sqlite3.PARSE_COLNAMES)\n",
    "db_df = pd.read_sql_query(\"SELECT * FROM questionDetails WHERE section='Math'\", conn)"
   ]
  },
  {
   "cell_type": "code",
   "execution_count": 24,
   "metadata": {},
   "outputs": [
    {
     "data": {
      "text/html": [
       "<div>\n",
       "<style scoped>\n",
       "    .dataframe tbody tr th:only-of-type {\n",
       "        vertical-align: middle;\n",
       "    }\n",
       "\n",
       "    .dataframe tbody tr th {\n",
       "        vertical-align: top;\n",
       "    }\n",
       "\n",
       "    .dataframe thead th {\n",
       "        text-align: right;\n",
       "    }\n",
       "</style>\n",
       "<table border=\"1\" class=\"dataframe\">\n",
       "  <thead>\n",
       "    <tr style=\"text-align: right;\">\n",
       "      <th></th>\n",
       "      <th>item_id</th>\n",
       "      <th>section</th>\n",
       "      <th>prompt</th>\n",
       "      <th>body</th>\n",
       "      <th>passage_directions</th>\n",
       "      <th>passage_attribution</th>\n",
       "      <th>passage_body</th>\n",
       "      <th>style</th>\n",
       "      <th>correct_choice</th>\n",
       "      <th>rationale</th>\n",
       "      <th>a</th>\n",
       "      <th>b</th>\n",
       "      <th>c</th>\n",
       "      <th>d</th>\n",
       "    </tr>\n",
       "  </thead>\n",
       "  <tbody>\n",
       "    <tr>\n",
       "      <th>0</th>\n",
       "      <td>026874-DC</td>\n",
       "      <td>Math</td>\n",
       "      <td>&lt;p class=\"stem_paragraph \"&gt;In the given triang...</td>\n",
       "      <td>&lt;div class=\"stimulus_reference \"&gt;\\n        &lt;di...</td>\n",
       "      <td>None</td>\n",
       "      <td>None</td>\n",
       "      <td>None</td>\n",
       "      <td>Multiple Choice</td>\n",
       "      <td>b</td>\n",
       "      <td>&lt;p&gt;Choice B is correct. Since &lt;span class=\"mat...</td>\n",
       "      <td>&lt;p class=\"choice_paragraph \"&gt;36&lt;/p&gt;\\n</td>\n",
       "      <td>&lt;p class=\"choice_paragraph \"&gt;46&lt;/p&gt;\\n</td>\n",
       "      <td>&lt;p class=\"choice_paragraph \"&gt;58&lt;/p&gt;\\n</td>\n",
       "      <td>&lt;p class=\"choice_paragraph \"&gt;70&lt;/p&gt;\\n</td>\n",
       "    </tr>\n",
       "    <tr>\n",
       "      <th>1</th>\n",
       "      <td>029423-DC</td>\n",
       "      <td>Math</td>\n",
       "      <td>&lt;p&gt;&lt;img src=\"data:image/png;base64,iVBORw0KGgo...</td>\n",
       "      <td>&lt;div xmlns=\"http://www.imsglobal.org/xsd/apip/...</td>\n",
       "      <td>None</td>\n",
       "      <td>None</td>\n",
       "      <td>None</td>\n",
       "      <td>Multiple Choice</td>\n",
       "      <td>b</td>\n",
       "      <td>&lt;p&gt;Choice B is correct. Two lines are parallel...</td>\n",
       "      <td>&lt;p class=\"choice_paragraph \"&gt;\\n            &lt;sp...</td>\n",
       "      <td>&lt;p class=\"choice_paragraph \"&gt;\\n            &lt;sp...</td>\n",
       "      <td>&lt;p class=\"choice_paragraph \"&gt;\\n            &lt;sp...</td>\n",
       "      <td>&lt;p class=\"choice_paragraph \"&gt;\\n            &lt;sp...</td>\n",
       "    </tr>\n",
       "    <tr>\n",
       "      <th>2</th>\n",
       "      <td>027075-DC</td>\n",
       "      <td>Math</td>\n",
       "      <td>&lt;p class=\"stem_paragraph \"&gt;In the given figure...</td>\n",
       "      <td>&lt;div class=\"stimulus_reference \"&gt;\\n        &lt;di...</td>\n",
       "      <td>None</td>\n",
       "      <td>None</td>\n",
       "      <td>None</td>\n",
       "      <td>Multiple Choice</td>\n",
       "      <td>d</td>\n",
       "      <td>&lt;p&gt;Choice D is correct. Since &lt;span class=\"mat...</td>\n",
       "      <td>&lt;p class=\"choice_paragraph \"&gt;110&lt;/p&gt;\\n</td>\n",
       "      <td>&lt;p class=\"choice_paragraph \"&gt;70&lt;/p&gt;\\n</td>\n",
       "      <td>&lt;p class=\"choice_paragraph \"&gt;55&lt;/p&gt;\\n</td>\n",
       "      <td>&lt;p class=\"choice_paragraph \"&gt;40&lt;/p&gt;\\n</td>\n",
       "    </tr>\n",
       "  </tbody>\n",
       "</table>\n",
       "</div>"
      ],
      "text/plain": [
       "     item_id section                                             prompt  \\\n",
       "0  026874-DC    Math  <p class=\"stem_paragraph \">In the given triang...   \n",
       "1  029423-DC    Math  <p><img src=\"data:image/png;base64,iVBORw0KGgo...   \n",
       "2  027075-DC    Math  <p class=\"stem_paragraph \">In the given figure...   \n",
       "\n",
       "                                                body passage_directions  \\\n",
       "0  <div class=\"stimulus_reference \">\\n        <di...               None   \n",
       "1  <div xmlns=\"http://www.imsglobal.org/xsd/apip/...               None   \n",
       "2  <div class=\"stimulus_reference \">\\n        <di...               None   \n",
       "\n",
       "  passage_attribution passage_body            style correct_choice  \\\n",
       "0                None         None  Multiple Choice              b   \n",
       "1                None         None  Multiple Choice              b   \n",
       "2                None         None  Multiple Choice              d   \n",
       "\n",
       "                                           rationale  \\\n",
       "0  <p>Choice B is correct. Since <span class=\"mat...   \n",
       "1  <p>Choice B is correct. Two lines are parallel...   \n",
       "2  <p>Choice D is correct. Since <span class=\"mat...   \n",
       "\n",
       "                                                   a  \\\n",
       "0              <p class=\"choice_paragraph \">36</p>\\n   \n",
       "1  <p class=\"choice_paragraph \">\\n            <sp...   \n",
       "2             <p class=\"choice_paragraph \">110</p>\\n   \n",
       "\n",
       "                                                   b  \\\n",
       "0              <p class=\"choice_paragraph \">46</p>\\n   \n",
       "1  <p class=\"choice_paragraph \">\\n            <sp...   \n",
       "2              <p class=\"choice_paragraph \">70</p>\\n   \n",
       "\n",
       "                                                   c  \\\n",
       "0              <p class=\"choice_paragraph \">58</p>\\n   \n",
       "1  <p class=\"choice_paragraph \">\\n            <sp...   \n",
       "2              <p class=\"choice_paragraph \">55</p>\\n   \n",
       "\n",
       "                                                   d  \n",
       "0              <p class=\"choice_paragraph \">70</p>\\n  \n",
       "1  <p class=\"choice_paragraph \">\\n            <sp...  \n",
       "2              <p class=\"choice_paragraph \">40</p>\\n  "
      ]
     },
     "execution_count": 24,
     "metadata": {},
     "output_type": "execute_result"
    }
   ],
   "source": [
    "db_df.head(3)"
   ]
  },
  {
   "cell_type": "code",
   "execution_count": 18,
   "metadata": {},
   "outputs": [
    {
     "name": "stdout",
     "output_type": "stream",
     "text": [
      "Index(['item_id', 'section', 'prompt', 'body', 'passage_directions',\n",
      "       'passage_attribution', 'passage_body', 'style', 'correct_choice',\n",
      "       'rationale', 'a', 'b', 'c', 'd'],\n",
      "      dtype='object')\n",
      "item_id section prompt body passage_directions passage_attribution passage_body style correct_choice rationale a b c d\n"
     ]
    }
   ],
   "source": [
    "print(db_df.columns)\n",
    "print(*db_df.columns)"
   ]
  },
  {
   "cell_type": "code",
   "execution_count": 3,
   "metadata": {},
   "outputs": [
    {
     "name": "stdout",
     "output_type": "stream",
     "text": [
      "item_id\n",
      "section\n",
      "prompt\n",
      "body\n",
      "passage_directions\n",
      "passage_attribution\n",
      "passage_body\n",
      "style\n",
      "correct_choice\n",
      "rationale\n",
      "a\n",
      "b\n",
      "c\n",
      "d\n"
     ]
    }
   ],
   "source": [
    "column_ID=[]\n",
    "for i in db_df.columns:\n",
    "    print(i)\n",
    "    column_ID.append(i)"
   ]
  },
  {
   "cell_type": "code",
   "execution_count": 21,
   "metadata": {},
   "outputs": [
    {
     "name": "stdout",
     "output_type": "stream",
     "text": [
      "['item_id', 'section', 'prompt', 'body', 'passage_directions', 'passage_attribution', 'passage_body', 'style', 'correct_choice', 'rationale', 'a', 'b', 'c', 'd']\n"
     ]
    }
   ],
   "source": [
    "print(column_ID)"
   ]
  },
  {
   "cell_type": "code",
   "execution_count": 4,
   "metadata": {},
   "outputs": [
    {
     "ename": "TypeError",
     "evalue": "list indices must be integers or slices, not Series",
     "output_type": "error",
     "traceback": [
      "\u001b[1;31m---------------------------------------------------------------------------\u001b[0m",
      "\u001b[1;31mTypeError\u001b[0m                                 Traceback (most recent call last)",
      "\u001b[1;32m<ipython-input-4-64d30963c8e2>\u001b[0m in \u001b[0;36m<module>\u001b[1;34m\u001b[0m\n\u001b[0;32m      3\u001b[0m     \u001b[1;31m# print(index)\u001b[0m\u001b[1;33m\u001b[0m\u001b[1;33m\u001b[0m\u001b[1;33m\u001b[0m\u001b[0m\n\u001b[0;32m      4\u001b[0m     \u001b[1;31m#print(row)\u001b[0m\u001b[1;33m\u001b[0m\u001b[1;33m\u001b[0m\u001b[1;33m\u001b[0m\u001b[0m\n\u001b[1;32m----> 5\u001b[1;33m     \u001b[0mprint\u001b[0m\u001b[1;33m(\u001b[0m\u001b[0mdb_df\u001b[0m\u001b[1;33m.\u001b[0m\u001b[0mat\u001b[0m\u001b[1;33m[\u001b[0m\u001b[0mindex\u001b[0m\u001b[1;33m,\u001b[0m \u001b[0mcolumn_ID\u001b[0m\u001b[1;33m[\u001b[0m\u001b[0mi\u001b[0m\u001b[1;33m]\u001b[0m\u001b[1;33m]\u001b[0m\u001b[1;33m)\u001b[0m\u001b[1;33m\u001b[0m\u001b[1;33m\u001b[0m\u001b[0m\n\u001b[0m",
      "\u001b[1;31mTypeError\u001b[0m: list indices must be integers or slices, not Series"
     ]
    }
   ],
   "source": [
    "for index in db_df.iterrows():\n",
    "    # Process the row data\n",
    "    # print(index)\n",
    "    #print(row)\n",
    "    for i in range(len(column_ID)):\n",
    "        print(db_df.at[index, column_ID[i]])"
   ]
  },
  {
   "cell_type": "code",
   "execution_count": null,
   "metadata": {},
   "outputs": [],
   "source": []
  }
 ],
 "metadata": {
  "kernelspec": {
   "display_name": "base",
   "language": "python",
   "name": "python3"
  },
  "language_info": {
   "codemirror_mode": {
    "name": "ipython",
    "version": 3
   },
   "file_extension": ".py",
   "mimetype": "text/x-python",
   "name": "python",
   "nbconvert_exporter": "python",
   "pygments_lexer": "ipython3",
   "version": "3.8.5"
  },
  "orig_nbformat": 4
 },
 "nbformat": 4,
 "nbformat_minor": 2
}
